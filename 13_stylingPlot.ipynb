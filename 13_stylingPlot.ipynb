{
 "cells": [
  {
   "cell_type": "markdown",
   "id": "8bf19854-a948-419a-ba29-105985f09ea0",
   "metadata": {},
   "source": [
    "# styling plot in seaborn"
   ]
  },
  {
   "cell_type": "code",
   "execution_count": null,
   "id": "77d2d93d-1a2f-41fa-85a7-0651734467a8",
   "metadata": {},
   "outputs": [],
   "source": [
    "import matplotlib.pyplot as plt\n",
    "import seaborn as sns\n",
    "import pandas as pd"
   ]
  },
  {
   "cell_type": "code",
   "execution_count": null,
   "id": "bc9749a7-6305-4eba-acb2-5449815807d4",
   "metadata": {},
   "outputs": [],
   "source": [
    "df=sns.load_dataset('tips')\n",
    "df"
   ]
  },
  {
   "cell_type": "code",
   "execution_count": null,
   "id": "fd723a4c-b952-4cf3-80b5-edc3742089b7",
   "metadata": {},
   "outputs": [],
   "source": [
    "sns.boxplot(df['total_bill'])\n",
    "plt.show()"
   ]
  },
  {
   "cell_type": "code",
   "execution_count": null,
   "id": "3edb0021-51e2-4032-ad82-e4744f06377d",
   "metadata": {},
   "outputs": [],
   "source": [
    "# simple grid()\n",
    "sns.barplot(x='day',y='total_bill',data=df)\n",
    "plt.grid()\n",
    "plt.show()"
   ]
  },
  {
   "cell_type": "code",
   "execution_count": null,
   "id": "130d0568-f1c4-4b7f-ac52-02b857cf3d59",
   "metadata": {},
   "outputs": [],
   "source": [
    "# set_style \n",
    "sns.set_style('dark') # dark/darkgrid/ticks/\n",
    "sns.barplot(x='day',y='total_bill',data=df)\n",
    "plt.grid()\n",
    "plt.show()"
   ]
  },
  {
   "cell_type": "code",
   "execution_count": null,
   "id": "06b95e9d-1182-42a2-bc7e-098faf06f568",
   "metadata": {},
   "outputs": [],
   "source": [
    "# despine parameter for removing\n",
    "sns.set_style('white') # dark/darkgrid/ticks/\n",
    "sns.barplot(x='day',y='total_bill',data=df)\n",
    "sns.despine()\n",
    "plt.show()"
   ]
  },
  {
   "cell_type": "code",
   "execution_count": null,
   "id": "4f7f22df-b23d-48a5-a131-11ad9553aada",
   "metadata": {},
   "outputs": [],
   "source": [
    "# figure size changing\n",
    "sns.set_style('dark') # dark/darkgrid/ticks/\n",
    "plt.figure(figsize=(12,3))\n",
    "sns.barplot(x='day',y='total_bill',data=df)\n",
    "plt.grid()\n",
    "plt.show()"
   ]
  },
  {
   "cell_type": "code",
   "execution_count": null,
   "id": "9f41dc7a-b4ee-43a2-8b3a-1e7fa5dacd2c",
   "metadata": {},
   "outputs": [],
   "source": [
    "sns.set_style('white') # dark/darkgrid/ticks/\n",
    "sns.set_context('poster',font_scale=1) # poster/paper\n",
    "sns.barplot(x='day',y='total_bill',data=df)\n",
    "plt.grid()\n",
    "plt.show()"
   ]
  },
  {
   "cell_type": "code",
   "execution_count": null,
   "id": "fc7a610e-330d-4bb9-a9de-416659cebf3b",
   "metadata": {},
   "outputs": [],
   "source": [
    "# multi colored\n",
    "sns.set_style('white') # dark/darkgrid/ticks/\n",
    "sns.set_context('poster',font_scale=1) # poster/paper\n",
    "sns.barplot(x='day',y='total_bill',data=df,palette='plasma')\n",
    "sns.despine()\n",
    "plt.show()"
   ]
  },
  {
   "cell_type": "code",
   "execution_count": null,
   "id": "1225839f-1463-4eeb-a5c2-505464efe9c0",
   "metadata": {},
   "outputs": [],
   "source": []
  }
 ],
 "metadata": {
  "kernelspec": {
   "display_name": "Python 3 (ipykernel)",
   "language": "python",
   "name": "python3"
  },
  "language_info": {
   "codemirror_mode": {
    "name": "ipython",
    "version": 3
   },
   "file_extension": ".py",
   "mimetype": "text/x-python",
   "name": "python",
   "nbconvert_exporter": "python",
   "pygments_lexer": "ipython3",
   "version": "3.12.7"
  }
 },
 "nbformat": 4,
 "nbformat_minor": 5
}
