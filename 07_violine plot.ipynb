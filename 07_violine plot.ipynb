{
 "cells": [
  {
   "cell_type": "markdown",
   "id": "8802eb9f-0976-4a11-9f95-84d9e2c959e9",
   "metadata": {},
   "source": [
    "# violine plot"
   ]
  },
  {
   "cell_type": "code",
   "execution_count": null,
   "id": "22aa1287-ca74-44e1-9467-41239541002d",
   "metadata": {},
   "outputs": [],
   "source": [
    "import numpy as np\n",
    "import pandas as pd\n",
    "import matplotlib.pyplot as plt\n",
    "import seaborn as sns"
   ]
  },
  {
   "cell_type": "code",
   "execution_count": null,
   "id": "4c06418d-9e12-4fc2-b64e-78d3a06670f3",
   "metadata": {},
   "outputs": [],
   "source": [
    "df=sns.load_dataset('tips')\n",
    "df"
   ]
  },
  {
   "cell_type": "code",
   "execution_count": null,
   "id": "6000fd82-430b-4ef3-aece-c13ebfe7b94c",
   "metadata": {},
   "outputs": [],
   "source": [
    "# basic\n",
    "sns.violinplot(x='day',y='total_bill',data=df)\n",
    "plt.show()"
   ]
  },
  {
   "cell_type": "code",
   "execution_count": null,
   "id": "78b9412f-009d-4c4b-81a7-7f331d9b711d",
   "metadata": {},
   "outputs": [],
   "source": [
    "# hue parameter\n",
    "sns.violinplot(x='day',y='total_bill',data=df,hue='time')\n",
    "plt.show()"
   ]
  },
  {
   "cell_type": "code",
   "execution_count": null,
   "id": "0d30f03a-0b97-424a-b4d2-6985ba888e2f",
   "metadata": {},
   "outputs": [],
   "source": [
    "# linewidth parameter\n",
    "sns.violinplot(x='day',y='total_bill',data=df,linewidth=2)\n",
    "plt.show()"
   ]
  },
  {
   "cell_type": "code",
   "execution_count": null,
   "id": "7e9942f3-7366-4998-b4ed-a5ef9843201c",
   "metadata": {},
   "outputs": [],
   "source": [
    "# palette parameter\n",
    "sns.violinplot(x='day',y='total_bill',data=df,linewidth=2,palette='Accent')\n",
    "plt.show()"
   ]
  },
  {
   "cell_type": "code",
   "execution_count": null,
   "id": "9e3c92f8-49ea-4ea0-85f7-41e293ef2b87",
   "metadata": {},
   "outputs": [],
   "source": [
    "# order parameter\n",
    "sns.violinplot(x='time',y='total_bill',data=df,order=['Dinner','Lunch'])\n",
    "plt.show()"
   ]
  },
  {
   "cell_type": "code",
   "execution_count": null,
   "id": "dddeb967-7148-44e4-9d4c-6a0647ba6ad9",
   "metadata": {},
   "outputs": [],
   "source": [
    "# saturation parameter\n",
    "sns.violinplot(x='day',y='total_bill',data=df,linewidth=2,palette='Accent',saturation=0.4)\n",
    "plt.show()"
   ]
  },
  {
   "cell_type": "code",
   "execution_count": null,
   "id": "32329c25-e9f7-4d62-97ba-30b16448a1ce",
   "metadata": {},
   "outputs": [],
   "source": [
    "# color parameter\n",
    "sns.violinplot(x='day',y='total_bill',data=df,linewidth=2,color='yellow')\n",
    "plt.show()"
   ]
  },
  {
   "cell_type": "code",
   "execution_count": null,
   "id": "ab7c5a2b-253b-423c-b116-0db9eb0750e5",
   "metadata": {},
   "outputs": [],
   "source": [
    "# hue parameter\n",
    "sns.violinplot(x='day',y='total_bill',data=df,hue='sex')\n",
    "plt.show()"
   ]
  },
  {
   "cell_type": "code",
   "execution_count": null,
   "id": "ca85611d-ef90-495a-add3-642b5bb8228c",
   "metadata": {},
   "outputs": [],
   "source": [
    "# split parameter\n",
    "sns.violinplot(x='day',y='total_bill',data=df,hue='sex',split=True)\n",
    "plt.show()"
   ]
  },
  {
   "cell_type": "code",
   "execution_count": null,
   "id": "9901f81c-bfea-4450-9889-19f2769039f6",
   "metadata": {},
   "outputs": [],
   "source": [
    "df"
   ]
  },
  {
   "cell_type": "code",
   "execution_count": null,
   "id": "cf49614f-7e3f-4253-a24f-d0f2a7e98192",
   "metadata": {},
   "outputs": [],
   "source": [
    "# inner='quart'\n",
    "sns.violinplot(x='time',y='total_bill',data=df,order=['Dinner','Lunch'],inner='quart')\n",
    "plt.show()"
   ]
  },
  {
   "cell_type": "code",
   "execution_count": null,
   "id": "356f1ede-9782-41fc-be80-b775de930cf5",
   "metadata": {},
   "outputs": [],
   "source": [
    "# single violin plot\n",
    "sns.violinplot(x=df['total_bill'])\n",
    "plt.show()"
   ]
  },
  {
   "cell_type": "code",
   "execution_count": null,
   "id": "b975fdeb-7948-41f2-b5d3-041951236a54",
   "metadata": {},
   "outputs": [],
   "source": [
    "# single violin plot y axis\n",
    "sns.violinplot(y=df['total_bill'])\n",
    "plt.show()"
   ]
  },
  {
   "cell_type": "code",
   "execution_count": null,
   "id": "e99c1fea-c51f-40c7-a227-7de4602d8f36",
   "metadata": {},
   "outputs": [],
   "source": []
  }
 ],
 "metadata": {
  "kernelspec": {
   "display_name": "Python 3 (ipykernel)",
   "language": "python",
   "name": "python3"
  },
  "language_info": {
   "codemirror_mode": {
    "name": "ipython",
    "version": 3
   },
   "file_extension": ".py",
   "mimetype": "text/x-python",
   "name": "python",
   "nbconvert_exporter": "python",
   "pygments_lexer": "ipython3",
   "version": "3.12.7"
  }
 },
 "nbformat": 4,
 "nbformat_minor": 5
}
