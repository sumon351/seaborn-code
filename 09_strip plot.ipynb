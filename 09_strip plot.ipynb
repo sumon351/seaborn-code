{
 "cells": [
  {
   "cell_type": "markdown",
   "id": "0bf27865-7d70-470f-b814-df18812764d4",
   "metadata": {},
   "source": [
    "# strip plot"
   ]
  },
  {
   "cell_type": "markdown",
   "id": "aa76f1ed-da4f-476c-8ecd-a071ff4d736b",
   "metadata": {},
   "source": [
    "# strip plot is like as a scatter plot"
   ]
  },
  {
   "cell_type": "code",
   "execution_count": null,
   "id": "ffcd1fc2-0d62-4731-869e-8b1668630d29",
   "metadata": {},
   "outputs": [],
   "source": [
    "import pandas as pd\n",
    "import matplotlib.pyplot as plt\n",
    "import seaborn as sns"
   ]
  },
  {
   "cell_type": "code",
   "execution_count": null,
   "id": "1aef959d-86a8-4bf1-82d2-bbecb31712eb",
   "metadata": {},
   "outputs": [],
   "source": [
    "df=sns.load_dataset('tips')\n",
    "df"
   ]
  },
  {
   "cell_type": "code",
   "execution_count": null,
   "id": "c3b155a1-92df-423b-b4db-3d885f6079b5",
   "metadata": {},
   "outputs": [],
   "source": [
    "sns.stripplot(x='day',y='total_bill',data=df)\n",
    "plt.show()"
   ]
  },
  {
   "cell_type": "code",
   "execution_count": null,
   "id": "00bad37c-3d4f-4630-9ee4-3d0aada201d7",
   "metadata": {},
   "outputs": [],
   "source": [
    "# hue parameter\n",
    "sns.stripplot(x='day',y='total_bill',data=df,hue='sex')\n",
    "plt.show()"
   ]
  },
  {
   "cell_type": "code",
   "execution_count": null,
   "id": "dba6de06-6777-4d28-bf95-8317168c1ba1",
   "metadata": {},
   "outputs": [],
   "source": [
    "# hue parameter\n",
    "sns.stripplot(x='day',y='total_bill',data=df,hue='sex')\n",
    "plt.show()"
   ]
  },
  {
   "cell_type": "code",
   "execution_count": null,
   "id": "188fe792-f537-4943-ace1-d56c82c93adc",
   "metadata": {},
   "outputs": [],
   "source": [
    "# hue parameter\n",
    "sns.stripplot(x='day',y='total_bill',data=df,hue='sex',linewidth=1,edgecolor='r')\n",
    "plt.show()"
   ]
  },
  {
   "cell_type": "code",
   "execution_count": null,
   "id": "987335df-7702-44d8-84fb-584fc85a8970",
   "metadata": {},
   "outputs": [],
   "source": [
    "# hue parameter\n",
    "sns.stripplot(x='day',y='total_bill',data=df,hue='sex',size=10)\n",
    "plt.show()"
   ]
  },
  {
   "cell_type": "code",
   "execution_count": null,
   "id": "0a7bbbd6-d324-4e54-8431-26a24f182c82",
   "metadata": {},
   "outputs": [],
   "source": [
    "sns.stripplot(x='day',y='total_bill',data=df,hue='sex',alpha=0.6)\n",
    "plt.show()"
   ]
  },
  {
   "cell_type": "code",
   "execution_count": null,
   "id": "25d86509-fbcd-4126-9f39-fd556612ead4",
   "metadata": {},
   "outputs": [],
   "source": [
    "# horizontal\n",
    "sns.stripplot(x=df['total_bill'])\n",
    "plt.show()"
   ]
  },
  {
   "cell_type": "code",
   "execution_count": null,
   "id": "de51a155-400d-439e-841c-6b6c2a27b313",
   "metadata": {},
   "outputs": [],
   "source": [
    "# vertical plot\n",
    "sns.stripplot(y=df['total_bill'])\n",
    "plt.show()"
   ]
  },
  {
   "cell_type": "code",
   "execution_count": null,
   "id": "d15a4c7c-bb37-43c3-8985-02b51d0db2ca",
   "metadata": {},
   "outputs": [],
   "source": []
  }
 ],
 "metadata": {
  "kernelspec": {
   "display_name": "Python 3 (ipykernel)",
   "language": "python",
   "name": "python3"
  },
  "language_info": {
   "codemirror_mode": {
    "name": "ipython",
    "version": 3
   },
   "file_extension": ".py",
   "mimetype": "text/x-python",
   "name": "python",
   "nbconvert_exporter": "python",
   "pygments_lexer": "ipython3",
   "version": "3.12.7"
  }
 },
 "nbformat": 4,
 "nbformat_minor": 5
}
