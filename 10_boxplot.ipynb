{
 "cells": [
  {
   "cell_type": "markdown",
   "id": "2e00f134-8ba8-4b2b-bffa-c3b1c885770e",
   "metadata": {},
   "source": [
    "# box plot in seaborn"
   ]
  },
  {
   "cell_type": "code",
   "execution_count": null,
   "id": "473596e6-42fb-4b7b-baa7-6936472dae2f",
   "metadata": {},
   "outputs": [],
   "source": [
    "import matplotlib.pyplot as plt\n",
    "import seaborn as sns\n",
    "import pandas as pd"
   ]
  },
  {
   "cell_type": "code",
   "execution_count": null,
   "id": "4c013e0f-f192-4dde-b11d-755d9db4be27",
   "metadata": {},
   "outputs": [],
   "source": [
    "df=sns.load_dataset('tips')\n",
    "df"
   ]
  },
  {
   "cell_type": "code",
   "execution_count": null,
   "id": "3b42301a-a596-4132-929d-f4b1bae47e2e",
   "metadata": {},
   "outputs": [],
   "source": [
    "sns.set(style='whitegrid')\n",
    "sns.boxplot(x='day',y='total_bill',data=df)\n",
    "plt.show()"
   ]
  },
  {
   "cell_type": "code",
   "execution_count": null,
   "id": "1b9fb970-7ce1-4282-9602-f4b7d0fcd50c",
   "metadata": {},
   "outputs": [],
   "source": [
    "sns.set(style='whitegrid')\n",
    "sns.boxplot(x='day',y='total_bill',data=df,hue='time')\n",
    "plt.show()"
   ]
  },
  {
   "cell_type": "code",
   "execution_count": null,
   "id": "d04ab0ef-cc7b-4114-9fe5-29295c1c18ab",
   "metadata": {},
   "outputs": [],
   "source": [
    "sns.set(style='whitegrid')\n",
    "sns.boxplot(x='day',y='total_bill',data=df,hue='sex',color='green')\n",
    "plt.show()"
   ]
  },
  {
   "cell_type": "code",
   "execution_count": null,
   "id": "5a8b360e-d7ad-49d9-871b-295d345e3bcf",
   "metadata": {},
   "outputs": [],
   "source": [
    "sns.set(style='whitegrid')\n",
    "sns.boxplot(x='day',y='total_bill',data=df,hue='sex',order=['Fri','Sat','Sun','Thur'])\n",
    "plt.show()"
   ]
  },
  {
   "cell_type": "code",
   "execution_count": null,
   "id": "ced84367-95a6-4f4a-abf0-182accb17226",
   "metadata": {},
   "outputs": [],
   "source": [
    "sns.set(style='whitegrid')\n",
    "sns.boxplot(x='day',y='total_bill',data=df,hue='sex',order=['Fri','Sat','Sun','Thur'],\n",
    "           showmeans=True)\n",
    "plt.show()"
   ]
  },
  {
   "cell_type": "code",
   "execution_count": null,
   "id": "5a004914-3eea-406a-9359-780f89702669",
   "metadata": {},
   "outputs": [],
   "source": [
    "sns.set(style='whitegrid')\n",
    "sns.boxplot(x='day',y='total_bill',data=df,hue='sex',showmeans=True, \n",
    "            meanprops={'marker':'*','markeredgecolor':'r'},linewidth=2,palette='plasma')\n",
    "plt.show()"
   ]
  },
  {
   "cell_type": "code",
   "execution_count": null,
   "id": "a14d78e8-5ceb-4879-b125-9d29492da99a",
   "metadata": {},
   "outputs": [],
   "source": []
  }
 ],
 "metadata": {
  "kernelspec": {
   "display_name": "Python 3 (ipykernel)",
   "language": "python",
   "name": "python3"
  },
  "language_info": {
   "codemirror_mode": {
    "name": "ipython",
    "version": 3
   },
   "file_extension": ".py",
   "mimetype": "text/x-python",
   "name": "python",
   "nbconvert_exporter": "python",
   "pygments_lexer": "ipython3",
   "version": "3.12.7"
  }
 },
 "nbformat": 4,
 "nbformat_minor": 5
}
