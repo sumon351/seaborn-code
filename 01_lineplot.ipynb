{
 "cells": [
  {
   "cell_type": "markdown",
   "id": "95abe72e-cdeb-4bf7-8256-d1e61e244778",
   "metadata": {},
   "source": [
    "# line plot"
   ]
  },
  {
   "cell_type": "code",
   "execution_count": null,
   "id": "69cfb2a6-948c-4297-852c-2c69f5affc9e",
   "metadata": {},
   "outputs": [],
   "source": [
    "import seaborn as sns\n",
    "import matplotlib.pyplot as plt\n",
    "import pandas as pd"
   ]
  },
  {
   "cell_type": "code",
   "execution_count": null,
   "id": "52f22704-f0e5-47f1-9c85-2f992ea922b8",
   "metadata": {},
   "outputs": [],
   "source": [
    "var=[1,2,3,4,5,6,7]\n",
    "var1=[2,5,3,2,1,7,4]\n"
   ]
  },
  {
   "cell_type": "code",
   "execution_count": null,
   "id": "05888155-cb69-4e66-99d0-e78355810a74",
   "metadata": {},
   "outputs": [],
   "source": [
    "df=pd.DataFrame({'var':var,'var1':var1})"
   ]
  },
  {
   "cell_type": "code",
   "execution_count": null,
   "id": "cad62720-92b8-4125-b264-a19a99b0ec79",
   "metadata": {},
   "outputs": [],
   "source": [
    "sns.lineplot(x='var',y='var1',data=df)"
   ]
  },
  {
   "cell_type": "code",
   "execution_count": null,
   "id": "7af2aebb-6213-4573-b570-94bfea4ee3f8",
   "metadata": {},
   "outputs": [],
   "source": [
    "plt.plot(var,var1)\n",
    "plt.show()"
   ]
  },
  {
   "cell_type": "code",
   "execution_count": null,
   "id": "3cd3aa21-1549-4e1e-b0f1-8fbe4864939f",
   "metadata": {},
   "outputs": [],
   "source": [
    "# collect the dataset from github(search seaborn dataset from google) and store newdataset like (store)\n",
    "# [sotre=sns.load_dataset('---------')]\n",
    "import seaborn as sns\n",
    "import matplotlib.pyplot as plt\n",
    "import pandas as pd\n",
    "store=sns.load_dataset('penguins')\n",
    "store"
   ]
  },
  {
   "cell_type": "code",
   "execution_count": null,
   "id": "2610fa9b-ef42-4b6a-a2bd-2dd0c91317d0",
   "metadata": {},
   "outputs": [],
   "source": [
    "# bill_length_mm vs flipper_length_mm lineplot\n",
    "sns.lineplot(x='bill_length_mm',y='flipper_length_mm',data=store)\n",
    "plt.show()"
   ]
  },
  {
   "cell_type": "code",
   "execution_count": null,
   "id": "90ea2f8a-e4de-4b42-b276-7c17ab3d616f",
   "metadata": {},
   "outputs": [],
   "source": [
    "# bill_length_mm vs body_mass_g lineplot\n",
    "sns.lineplot(x='bill_length_mm',y='body_mass_g',data=store)\n",
    "plt.show()"
   ]
  },
  {
   "cell_type": "code",
   "execution_count": null,
   "id": "43ef2812-c399-43b6-949a-428f3a368b42",
   "metadata": {},
   "outputs": [],
   "source": [
    "# bill_depth_mm vs flipper_length_mm lineplot\n",
    "sns.lineplot(x='bill_depth_mm',y='flipper_length_mm',data=store)\n",
    "plt.show()"
   ]
  },
  {
   "cell_type": "code",
   "execution_count": null,
   "id": "6a8acf51-a044-41e7-98ae-8bd8fad88b38",
   "metadata": {},
   "outputs": [],
   "source": [
    "# using hue \n",
    "# bill_depth_mm vs flipper_length_mm lineplot\n",
    "sns.lineplot(x='bill_depth_mm',y='flipper_length_mm',data=store,hue='sex')\n",
    "plt.show()"
   ]
  },
  {
   "cell_type": "code",
   "execution_count": null,
   "id": "06e94af7-637f-4537-9e02-331de88f7118",
   "metadata": {},
   "outputs": [],
   "source": [
    "#another dataset collected from github\n",
    "store1=sns.load_dataset('diamonds')\n",
    "store1"
   ]
  },
  {
   "cell_type": "code",
   "execution_count": null,
   "id": "536d0d45-4b09-4584-bbd7-99001011c2b2",
   "metadata": {},
   "outputs": [],
   "source": [
    "sns.lineplot(x='depth',y='price',data=store1,hue='cut')\n",
    "\n",
    "plt.show()"
   ]
  },
  {
   "cell_type": "code",
   "execution_count": null,
   "id": "c6072f59-4d41-4539-bfa8-d855e053c547",
   "metadata": {},
   "outputs": [],
   "source": [
    "# size parameter\n",
    "sns.lineplot(x='depth',y='price',data=store1,hue='cut',size=100)\n",
    "\n",
    "plt.show()"
   ]
  },
  {
   "cell_type": "code",
   "execution_count": null,
   "id": "1f2f2160-8e82-4152-8179-67d23d0e549c",
   "metadata": {},
   "outputs": [],
   "source": [
    "# style parameter\n",
    "sns.lineplot(x='depth',y='price',data=store1,hue='cut',style='cut')\n",
    "plt.show()"
   ]
  },
  {
   "cell_type": "code",
   "execution_count": null,
   "id": "5716b40d-202d-4d74-8e03-4d0303ca4796",
   "metadata": {},
   "outputs": [],
   "source": [
    "# palette parameter\n",
    "sns.lineplot(x='depth',y='price',data=store1,hue='cut',style='cut',palette='Accent')\n",
    "plt.show()"
   ]
  },
  {
   "cell_type": "code",
   "execution_count": null,
   "id": "039499a3-280b-44f6-a32d-7b7270136752",
   "metadata": {},
   "outputs": [],
   "source": [
    "# using hue \n",
    "# bill_depth_mm vs flipper_length_mm lineplot\n",
    "sns.lineplot(x='bill_depth_mm',y='flipper_length_mm',data=store,hue='sex',palette='Accent',markers=['o','>'])\n",
    "plt.show()"
   ]
  },
  {
   "cell_type": "code",
   "execution_count": null,
   "id": "ba85e769-2b37-4267-b523-bbffd713db6b",
   "metadata": {},
   "outputs": [],
   "source": [
    "store=sns.load_dataset('penguins')"
   ]
  },
  {
   "cell_type": "code",
   "execution_count": null,
   "id": "e2629219-b906-4ee9-9aeb-bbdc49b0b1c8",
   "metadata": {},
   "outputs": [],
   "source": [
    "store"
   ]
  },
  {
   "cell_type": "code",
   "execution_count": null,
   "id": "e85b8e96-33b6-4c7d-a036-b5a6b9805954",
   "metadata": {},
   "outputs": [],
   "source": [
    "store.head()"
   ]
  },
  {
   "cell_type": "code",
   "execution_count": null,
   "id": "b7962866-4816-4791-bec0-0dc253d3836b",
   "metadata": {},
   "outputs": [],
   "source": [
    "store.tail()"
   ]
  },
  {
   "cell_type": "code",
   "execution_count": null,
   "id": "054a5837-3d97-4713-b49c-3ba5bbe1bf1a",
   "metadata": {},
   "outputs": [],
   "source": [
    "store.head(24)"
   ]
  },
  {
   "cell_type": "code",
   "execution_count": null,
   "id": "9b19b935-d250-4840-ac10-6fcd83ee0e48",
   "metadata": {},
   "outputs": [],
   "source": [
    "\n",
    "sns.lineplot(x='bill_length_mm',y='flipper_length_mm',data=store,hue='sex')\n",
    "plt.show()"
   ]
  },
  {
   "cell_type": "code",
   "execution_count": null,
   "id": "bae2d60f-b867-4f29-9347-43185865ba1c",
   "metadata": {},
   "outputs": [],
   "source": [
    "store2=sns.load_dataset('penguins').head(30)"
   ]
  },
  {
   "cell_type": "code",
   "execution_count": null,
   "id": "e37cf81b-bcca-4fa2-973d-ea1475ec35cd",
   "metadata": {},
   "outputs": [],
   "source": [
    "store2"
   ]
  },
  {
   "cell_type": "code",
   "execution_count": null,
   "id": "ffedaaeb-370c-4e7a-b219-b3e4b98f3148",
   "metadata": {},
   "outputs": [],
   "source": [
    "sns.lineplot(x='bill_length_mm',y='bill_depth_mm',data=store2)\n",
    "plt.grid()\n",
    "plt.title('line plot')\n",
    "plt.show()"
   ]
  },
  {
   "cell_type": "code",
   "execution_count": null,
   "id": "98f7231f-ed2d-4f05-baf9-0c379ae3f4db",
   "metadata": {},
   "outputs": [],
   "source": []
  }
 ],
 "metadata": {
  "kernelspec": {
   "display_name": "Python 3 (ipykernel)",
   "language": "python",
   "name": "python3"
  },
  "language_info": {
   "codemirror_mode": {
    "name": "ipython",
    "version": 3
   },
   "file_extension": ".py",
   "mimetype": "text/x-python",
   "name": "python",
   "nbconvert_exporter": "python",
   "pygments_lexer": "ipython3",
   "version": "3.12.7"
  }
 },
 "nbformat": 4,
 "nbformat_minor": 5
}
