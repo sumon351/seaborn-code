{
 "cells": [
  {
   "cell_type": "markdown",
   "id": "4b878833-3881-45f4-a6ee-00c745250c4f",
   "metadata": {},
   "source": [
    "# count plot in seaborn"
   ]
  },
  {
   "cell_type": "code",
   "execution_count": null,
   "id": "11276e8a-f02f-4907-bfb1-1bbc8590b643",
   "metadata": {},
   "outputs": [],
   "source": [
    "import numpy as np\n",
    "import pandas as pd\n",
    "import matplotlib.pyplot as plt\n",
    "import seaborn as sns"
   ]
  },
  {
   "cell_type": "code",
   "execution_count": null,
   "id": "790b6456-8a95-484a-b3bd-0b2a900b3d6f",
   "metadata": {},
   "outputs": [],
   "source": [
    "df=sns.load_dataset('tips')\n",
    "df"
   ]
  },
  {
   "cell_type": "code",
   "execution_count": null,
   "id": "1c9bc12c-252e-4099-81c3-85c7d33b940b",
   "metadata": {},
   "outputs": [],
   "source": [
    "# x axis\n",
    "sns.countplot(x='sex', data=df)\n",
    "plt.show()"
   ]
  },
  {
   "cell_type": "code",
   "execution_count": null,
   "id": "1dd7e6a1-3f75-4017-9353-78da8662d0f6",
   "metadata": {},
   "outputs": [],
   "source": [
    "# here barplot\n",
    "sns.barplot(x='sex',y='size', data=df)\n",
    "plt.show()"
   ]
  },
  {
   "cell_type": "code",
   "execution_count": null,
   "id": "9f7845b8-dadf-4e17-a93f-8c5c420fb02c",
   "metadata": {},
   "outputs": [],
   "source": [
    "# hue parameter\n",
    "sns.countplot(x='sex', data=df,hue='smoker')\n",
    "plt.show()"
   ]
  },
  {
   "cell_type": "code",
   "execution_count": null,
   "id": "1a78cfff-cd2e-45c2-b01e-801c42834e2a",
   "metadata": {},
   "outputs": [],
   "source": [
    "# horizontal thats using y\n",
    "sns.countplot(y='sex', data=df,hue='smoker')\n",
    "plt.show()"
   ]
  },
  {
   "cell_type": "code",
   "execution_count": null,
   "id": "d133ff5f-98f5-4e48-8029-73c0db273d62",
   "metadata": {},
   "outputs": [],
   "source": [
    "# palette parameter using for color\n",
    "sns.countplot(x='sex', data=df,hue='smoker',palette='bwr')\n",
    "plt.show()"
   ]
  },
  {
   "cell_type": "code",
   "execution_count": null,
   "id": "23d42756-cc2b-473d-b88b-aae955cc7fb8",
   "metadata": {},
   "outputs": [],
   "source": [
    "sns.countplot(x='sex', data=df,hue='smoker',color='red')\n",
    "plt.show()"
   ]
  },
  {
   "cell_type": "code",
   "execution_count": null,
   "id": "c134e70a-e2cb-40f0-a907-a6e0a7fbde63",
   "metadata": {},
   "outputs": [],
   "source": [
    "sns.countplot(x='sex', data=df,hue='smoker',color='red',saturation=0.2)\n",
    "plt.show()"
   ]
  },
  {
   "cell_type": "code",
   "execution_count": null,
   "id": "a7ea77ae-eaa7-46d9-beca-33ef890f99d5",
   "metadata": {},
   "outputs": [],
   "source": []
  }
 ],
 "metadata": {
  "kernelspec": {
   "display_name": "Python 3 (ipykernel)",
   "language": "python",
   "name": "python3"
  },
  "language_info": {
   "codemirror_mode": {
    "name": "ipython",
    "version": 3
   },
   "file_extension": ".py",
   "mimetype": "text/x-python",
   "name": "python",
   "nbconvert_exporter": "python",
   "pygments_lexer": "ipython3",
   "version": "3.12.7"
  }
 },
 "nbformat": 4,
 "nbformat_minor": 5
}
