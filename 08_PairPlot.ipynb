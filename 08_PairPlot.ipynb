{
 "cells": [
  {
   "cell_type": "markdown",
   "id": "29a5bfb5-0dba-47fa-8a6d-8c2b5c8cf935",
   "metadata": {},
   "source": [
    "# pair plot in seaborn"
   ]
  },
  {
   "cell_type": "code",
   "execution_count": null,
   "id": "7fc172b8-a43c-4592-b7ce-a3d7ccde1bc3",
   "metadata": {},
   "outputs": [],
   "source": [
    "import numpy as np\n",
    "import pandas as pd\n",
    "import matplotlib.pyplot as plt\n",
    "import seaborn as sns"
   ]
  },
  {
   "cell_type": "code",
   "execution_count": null,
   "id": "48771b06-04db-430a-9c72-13885f9df4c5",
   "metadata": {},
   "outputs": [],
   "source": [
    "df=sns.load_dataset('tips')\n",
    "df"
   ]
  },
  {
   "cell_type": "code",
   "execution_count": null,
   "id": "be7cf315-66e4-432f-822d-cbecd2ccd4a4",
   "metadata": {},
   "outputs": [],
   "source": [
    "# total dataset using for pairplot\n",
    "sns.pairplot(df)\n",
    "plt.show()\n"
   ]
  },
  {
   "cell_type": "code",
   "execution_count": null,
   "id": "fe47d04e-ee95-4c30-8170-3503552714bd",
   "metadata": {},
   "outputs": [],
   "source": [
    "# separeted data between female and male using (hue) parameter\n",
    "sns.pairplot(df,hue='sex')\n",
    "plt.show()"
   ]
  },
  {
   "cell_type": "code",
   "execution_count": null,
   "id": "fad4118a-f0eb-4317-a0d8-0bd7fde385a3",
   "metadata": {},
   "outputs": [],
   "source": [
    "# according to total_bill vs tip \n",
    "sns.pairplot(df,vars=['total_bill','tip'],hue='sex')\n",
    "plt.show()"
   ]
  },
  {
   "cell_type": "code",
   "execution_count": null,
   "id": "67da9226-6b73-4d00-9a54-fb1ab9ba2b87",
   "metadata": {},
   "outputs": [],
   "source": [
    "# using order parameter\n",
    "sns.pairplot(df,vars=['total_bill','tip'],hue='sex',hue_order=['Female','Male'])\n",
    "plt.show()"
   ]
  },
  {
   "cell_type": "code",
   "execution_count": null,
   "id": "e5e757a2-2dd4-409d-a652-755fd7d6ff60",
   "metadata": {},
   "outputs": [],
   "source": [
    "# palette parameter for using color\n",
    "sns.pairplot(df,vars=['total_bill','tip'],hue='sex',hue_order=['Female','Male'],palette='viridis')\n",
    "plt.show()"
   ]
  },
  {
   "cell_type": "code",
   "execution_count": null,
   "id": "cc971cf5-1471-429e-81ef-7186fa7504f4",
   "metadata": {},
   "outputs": [],
   "source": [
    "# kind parameter\n",
    "sns.pairplot(df,hue='sex',hue_order=['Female','Male'],kind='kde') # kind=reg/scatter/hist/kde \n",
    "plt.show()"
   ]
  },
  {
   "cell_type": "code",
   "execution_count": null,
   "id": "864c5f70-7e68-4d39-b6d9-49a0367c0325",
   "metadata": {},
   "outputs": [],
   "source": [
    "df.head(20)"
   ]
  },
  {
   "cell_type": "code",
   "execution_count": null,
   "id": "91312aba-9a59-45d3-945f-ab5d943b4262",
   "metadata": {},
   "outputs": [],
   "source": [
    "sns.pairplot(df,vars=['total_bill','tip'],hue='sex',hue_order=['Female','Male'],markers=['*','<'])\n",
    "plt.show()"
   ]
  },
  {
   "cell_type": "code",
   "execution_count": null,
   "id": "08dfe961-3619-4f2e-8bba-7921335dc2d3",
   "metadata": {},
   "outputs": [],
   "source": []
  }
 ],
 "metadata": {
  "kernelspec": {
   "display_name": "Python 3 (ipykernel)",
   "language": "python",
   "name": "python3"
  },
  "language_info": {
   "codemirror_mode": {
    "name": "ipython",
    "version": 3
   },
   "file_extension": ".py",
   "mimetype": "text/x-python",
   "name": "python",
   "nbconvert_exporter": "python",
   "pygments_lexer": "ipython3",
   "version": "3.12.7"
  }
 },
 "nbformat": 4,
 "nbformat_minor": 5
}
