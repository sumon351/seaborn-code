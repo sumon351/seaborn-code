{
 "cells": [
  {
   "cell_type": "markdown",
   "id": "45f7b01c-83eb-4cc3-8f6f-5a7e1d6ab7cc",
   "metadata": {},
   "source": [
    "# Heat Map"
   ]
  },
  {
   "cell_type": "code",
   "execution_count": 1,
   "id": "c0c41b12-6bce-4899-9838-35b0b2db8ad9",
   "metadata": {},
   "outputs": [],
   "source": [
    "import pandas as pd\n",
    "import matplotlib.pyplot as plt\n",
    "import seaborn as sns\n",
    "import numpy as np"
   ]
  },
  {
   "cell_type": "code",
   "execution_count": null,
   "id": "955ca9d5-ab99-4317-9403-d88a1440ebdb",
   "metadata": {},
   "outputs": [],
   "source": [
    "df=np.linspace(1,10,20).reshape(4,5)\n",
    "df"
   ]
  },
  {
   "cell_type": "code",
   "execution_count": null,
   "id": "c9a8d48e-3bc9-4d2b-a287-ecc062e5ecab",
   "metadata": {},
   "outputs": [],
   "source": [
    "sns.heatmap(df)\n",
    "plt.show()"
   ]
  },
  {
   "cell_type": "code",
   "execution_count": null,
   "id": "3123fc91-2c07-46d0-8eaf-9253b1e93766",
   "metadata": {},
   "outputs": [],
   "source": [
    "# another data frame\n",
    "df=sns.load_dataset('anagrams')\n",
    "df"
   ]
  },
  {
   "cell_type": "code",
   "execution_count": null,
   "id": "546cb07a-8835-45ff-84d1-aec9915fb3f6",
   "metadata": {},
   "outputs": [],
   "source": [
    "# drop columns\n",
    "x=df.drop(columns=['attnr'],axis=1).head(10)\n",
    "x"
   ]
  },
  {
   "cell_type": "code",
   "execution_count": null,
   "id": "5b2081da-b906-4ecd-85b5-85f2124da7ce",
   "metadata": {},
   "outputs": [],
   "source": [
    "sns.heatmap(x)"
   ]
  },
  {
   "cell_type": "code",
   "execution_count": null,
   "id": "58256c29-5670-4c70-88dc-b500b7fdef33",
   "metadata": {},
   "outputs": [],
   "source": [
    "# again \n",
    "df=np.linspace(1,10,20).reshape(4,5)\n",
    "df"
   ]
  },
  {
   "cell_type": "code",
   "execution_count": null,
   "id": "f078c778-78a8-4ed2-a39f-6f20600156c5",
   "metadata": {},
   "outputs": [],
   "source": [
    "# using vmin and vmax parameter\n",
    "sns.heatmap(df,vmin=0,vmax=15)\n",
    "plt.show()"
   ]
  },
  {
   "cell_type": "code",
   "execution_count": null,
   "id": "3023bd08-e52b-4fda-abc7-eadc6067568f",
   "metadata": {},
   "outputs": [],
   "source": [
    "# using cmap\n",
    "sns.heatmap(df,vmin=0,vmax=15,cmap='PuOr') # viridis\n",
    "plt.show()"
   ]
  },
  {
   "cell_type": "code",
   "execution_count": null,
   "id": "6892d3a8-1b3c-4ccd-94a5-3619283425e8",
   "metadata": {},
   "outputs": [],
   "source": [
    "# annot function\n",
    "sns.heatmap(df,vmin=0,vmax=15,cmap='PuOr',annot=True) # viridis\n",
    "plt.show()"
   ]
  },
  {
   "cell_type": "code",
   "execution_count": null,
   "id": "afaaafb9-c91c-42f7-a5b0-3ce533136cac",
   "metadata": {},
   "outputs": [],
   "source": [
    "# new array \n",
    "df2=np.linspace(1,10,10).reshape(2,5)\n",
    "df2"
   ]
  },
  {
   "cell_type": "code",
   "execution_count": null,
   "id": "36c82825-1ce9-4241-b788-fd311a808a39",
   "metadata": {},
   "outputs": [],
   "source": [
    "sns.heatmap(df2,vmin=0,vmax=10,cmap='viridis',annot=True)\n",
    "plt.show()"
   ]
  },
  {
   "cell_type": "code",
   "execution_count": null,
   "id": "20db668b-b44d-4f7a-88fd-3e498c6a14d9",
   "metadata": {},
   "outputs": [],
   "source": [
    "# create a new array\n",
    "arr=np.array([['a0','a1','a2','a3','a4'],['b0','b1','b2','b3','b4']])\n",
    "arr"
   ]
  },
  {
   "cell_type": "code",
   "execution_count": null,
   "id": "71033516-a49b-4490-8efc-6a6180cd6dd0",
   "metadata": {},
   "outputs": [],
   "source": [
    "sns.heatmap(df2,vmin=0,vmax=10,cmap='viridis',annot=arr,fmt='s')# fmt='s' means format='string'\n",
    "plt.show()"
   ]
  },
  {
   "cell_type": "code",
   "execution_count": null,
   "id": "790c9094-3b1e-420e-98a4-9b37c48fda90",
   "metadata": {},
   "outputs": [],
   "source": [
    "# again  \n",
    "df2"
   ]
  },
  {
   "cell_type": "code",
   "execution_count": null,
   "id": "c5449912-e4fd-4880-9bda-36f4b24a2b6f",
   "metadata": {},
   "outputs": [],
   "source": [
    "# annot_kws parameter\n",
    "y={'fontsize':20,'color':'red'}\n",
    "sns.heatmap(df2,vmin=0,vmax=10,cmap='viridis',annot=True,annot_kws=y)\n",
    "plt.show()"
   ]
  },
  {
   "cell_type": "code",
   "execution_count": null,
   "id": "9da6702b-8ea0-4829-b338-91ef271b093d",
   "metadata": {},
   "outputs": [],
   "source": [
    "# annot_kws parameter with linewidth\n",
    "y={'fontsize':20,'color':'red'}\n",
    "sns.heatmap(df2,vmin=0,vmax=10,cmap='viridis',annot=True,annot_kws=y,linewidth=10)\n",
    "plt.show()"
   ]
  },
  {
   "cell_type": "code",
   "execution_count": null,
   "id": "23309ac2-e315-418b-9a50-606318189fe9",
   "metadata": {},
   "outputs": [],
   "source": [
    "# linecolor parameter\n",
    "y={'fontsize':20,'color':'red'}\n",
    "sns.heatmap(df2,vmin=0,vmax=10,cmap='viridis',annot=True,annot_kws=y,linewidth=10,linecolor='y')\n",
    "plt.show()"
   ]
  },
  {
   "cell_type": "code",
   "execution_count": null,
   "id": "95c6606d-7591-4d35-ac0d-df6207377ba5",
   "metadata": {},
   "outputs": [],
   "source": [
    "# cbar=False means avoid colorBar\n",
    "y={'fontsize':20,'color':'red'}\n",
    "sns.heatmap(df2,vmin=0,vmax=10,cmap='viridis',annot=True,annot_kws=y,linewidth=10,linecolor='y',cbar=False)\n",
    "plt.show()"
   ]
  },
  {
   "cell_type": "code",
   "execution_count": null,
   "id": "ec2fdc42-f504-40f9-a998-3a6889d25565",
   "metadata": {},
   "outputs": [],
   "source": [
    "# xticklabels=False and yticklabels=False means avoid labels of x axis and y axis\n",
    "y={'fontsize':20,'color':'red'}\n",
    "sns.heatmap(df2,vmin=0,vmax=10,cmap='viridis',annot=True,annot_kws=y,linewidth=10,linecolor='y',cbar=False,\n",
    "           xticklabels=False,yticklabels=False)\n",
    "plt.show()"
   ]
  },
  {
   "cell_type": "code",
   "execution_count": null,
   "id": "0a721ca7-7092-447a-b372-98200ba92a01",
   "metadata": {},
   "outputs": [],
   "source": [
    "# update xlabel and ylabel here\n",
    "y={'fontsize':20,'color':'red'}\n",
    "z=sns.heatmap(df2,vmin=0,vmax=10,cmap='viridis',annot=True,annot_kws=y,linewidth=10,linecolor='y',cbar=False,\n",
    "           xticklabels=False,yticklabels=False)\n",
    "z.set(xlabel='python',ylabel='wscube')\n",
    "plt.show()"
   ]
  },
  {
   "cell_type": "code",
   "execution_count": null,
   "id": "4a58d60d-8cff-43e6-ba9e-934c7490f64b",
   "metadata": {},
   "outputs": [],
   "source": []
  }
 ],
 "metadata": {
  "kernelspec": {
   "display_name": "Python 3 (ipykernel)",
   "language": "python",
   "name": "python3"
  },
  "language_info": {
   "codemirror_mode": {
    "name": "ipython",
    "version": 3
   },
   "file_extension": ".py",
   "mimetype": "text/x-python",
   "name": "python",
   "nbconvert_exporter": "python",
   "pygments_lexer": "ipython3",
   "version": "3.12.7"
  }
 },
 "nbformat": 4,
 "nbformat_minor": 5
}
