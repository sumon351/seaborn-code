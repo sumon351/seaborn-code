{
 "cells": [
  {
   "cell_type": "markdown",
   "id": "2039e4b6-0b59-4aea-bbac-aa3fe102fb37",
   "metadata": {},
   "source": [
    "# catplot"
   ]
  },
  {
   "cell_type": "code",
   "execution_count": null,
   "id": "9052a069-aecd-4e40-8f1d-75e4d7543450",
   "metadata": {},
   "outputs": [],
   "source": [
    "import matplotlib.pyplot as plt\n",
    "import seaborn as sns\n",
    "import pandas as pd"
   ]
  },
  {
   "cell_type": "code",
   "execution_count": null,
   "id": "2603f4c3-8efb-4f89-b9e9-d7f530e5dfa3",
   "metadata": {},
   "outputs": [],
   "source": [
    "df=sns.load_dataset('tips').head(40)\n",
    "df"
   ]
  },
  {
   "cell_type": "code",
   "execution_count": null,
   "id": "b692323a-443c-461b-af2c-24c4f1e6827f",
   "metadata": {},
   "outputs": [],
   "source": [
    "sns.catplot(x='day',y='tip',data=df)\n",
    "plt.show()"
   ]
  },
  {
   "cell_type": "code",
   "execution_count": null,
   "id": "40ea5b84-aaf9-4cf8-8e23-1da72e5235d7",
   "metadata": {},
   "outputs": [],
   "source": [
    "sns.catplot(x='day',y='tip',data=df,hue='sex')\n",
    "plt.show()"
   ]
  },
  {
   "cell_type": "code",
   "execution_count": null,
   "id": "b5193531-a9aa-45c2-b403-671878f483a2",
   "metadata": {},
   "outputs": [],
   "source": [
    "sns.catplot(x='day',y='tip',data=df,hue='sex',kind='box')\n",
    "plt.show()"
   ]
  },
  {
   "cell_type": "code",
   "execution_count": null,
   "id": "e81c49f4-1f88-493b-ac77-0380cc49fed7",
   "metadata": {},
   "outputs": [],
   "source": [
    "sns.catplot(x='day',y='tip',data=df,hue='sex',kind='point')\n",
    "plt.show()"
   ]
  },
  {
   "cell_type": "code",
   "execution_count": null,
   "id": "a602cd47-7c05-4eac-9af3-42de48c06cbe",
   "metadata": {},
   "outputs": [],
   "source": [
    "sns.catplot(x='day',y='tip',data=df,hue='sex',kind='bar') # bar/count/point/strip/swarm/box/boxen/violine\n",
    "plt.show()"
   ]
  },
  {
   "cell_type": "code",
   "execution_count": null,
   "id": "23610dd6-6f1a-4ac5-b9d9-c34a82aac2c1",
   "metadata": {},
   "outputs": [],
   "source": [
    "sns.catplot(x='day',y='tip',data=df,hue='sex',kind='violin')\n",
    "plt.show()"
   ]
  },
  {
   "cell_type": "code",
   "execution_count": null,
   "id": "d25799c9-b9a8-48d4-8b7e-2dfa6d46af0c",
   "metadata": {},
   "outputs": [],
   "source": []
  }
 ],
 "metadata": {
  "kernelspec": {
   "display_name": "Python 3 (ipykernel)",
   "language": "python",
   "name": "python3"
  },
  "language_info": {
   "codemirror_mode": {
    "name": "ipython",
    "version": 3
   },
   "file_extension": ".py",
   "mimetype": "text/x-python",
   "name": "python",
   "nbconvert_exporter": "python",
   "pygments_lexer": "ipython3",
   "version": "3.12.7"
  }
 },
 "nbformat": 4,
 "nbformat_minor": 5
}
