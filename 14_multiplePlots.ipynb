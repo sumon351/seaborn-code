{
 "cells": [
  {
   "cell_type": "markdown",
   "id": "1f3a6efa-d04b-4a05-a88e-0dcbc33f5428",
   "metadata": {},
   "source": [
    "# multiple plots(FacetGrid) in seaborn"
   ]
  },
  {
   "cell_type": "code",
   "execution_count": null,
   "id": "53857016-ed60-42f1-82ad-f5f9cbd267c1",
   "metadata": {},
   "outputs": [],
   "source": [
    "import pandas as pd\n",
    "import matplotlib.pyplot as plt\n",
    "import seaborn as sns\n"
   ]
  },
  {
   "cell_type": "code",
   "execution_count": null,
   "id": "7e0c8d4f-ba4a-4260-91f0-a364e5216cca",
   "metadata": {},
   "outputs": [],
   "source": [
    "df=sns.load_dataset('tips')\n",
    "df"
   ]
  },
  {
   "cell_type": "code",
   "execution_count": null,
   "id": "5ce24d66-014a-4fce-a0a2-1b58a4299db4",
   "metadata": {},
   "outputs": [],
   "source": [
    "#fg=facetgrid with map()\n",
    "fg=sns.FacetGrid(df)\n",
    "fg.map(plt.scatter,'total_bill','tip')\n",
    "plt.show()"
   ]
  },
  {
   "cell_type": "code",
   "execution_count": null,
   "id": "f7084577-e57b-4608-8f3e-8d9a9d540e55",
   "metadata": {},
   "outputs": [],
   "source": [
    "#fg=facetgrid with map()\n",
    "fg=sns.FacetGrid(df,col='sex')\n",
    "fg.map(plt.scatter,'total_bill','tip')\n",
    "plt.show()"
   ]
  },
  {
   "cell_type": "code",
   "execution_count": null,
   "id": "31617c22-79f0-4468-b838-a8ac9f63cd13",
   "metadata": {},
   "outputs": [],
   "source": [
    "#fg=facetgrid with map()\n",
    "fg=sns.FacetGrid(df,col='sex',hue='day')\n",
    "fg.map(plt.scatter,'total_bill','tip')\n",
    "plt.show()"
   ]
  },
  {
   "cell_type": "code",
   "execution_count": null,
   "id": "3f97dfff-01ae-4f80-9fa5-230b1f75d9cd",
   "metadata": {},
   "outputs": [],
   "source": [
    "#fg=facetgrid with map()\n",
    "fg=sns.FacetGrid(df,col='sex',hue='day')\n",
    "fg.map(plt.scatter,'total_bill','tip').add_legend()\n",
    "plt.show()"
   ]
  },
  {
   "cell_type": "code",
   "execution_count": null,
   "id": "c5c760aa-d59f-4d5a-9c88-905c72c1cd41",
   "metadata": {},
   "outputs": [],
   "source": [
    "#fg=facetgrid with map()\n",
    "fg=sns.FacetGrid(df,col='day',hue='sex')\n",
    "fg.map(plt.scatter,'total_bill','tip').add_legend()\n",
    "plt.show()"
   ]
  },
  {
   "cell_type": "code",
   "execution_count": null,
   "id": "d87ecefd-b610-4490-b375-fb76446699d4",
   "metadata": {},
   "outputs": [],
   "source": []
  }
 ],
 "metadata": {
  "kernelspec": {
   "display_name": "Python 3 (ipykernel)",
   "language": "python",
   "name": "python3"
  },
  "language_info": {
   "codemirror_mode": {
    "name": "ipython",
    "version": 3
   },
   "file_extension": ".py",
   "mimetype": "text/x-python",
   "name": "python",
   "nbconvert_exporter": "python",
   "pygments_lexer": "ipython3",
   "version": "3.12.7"
  }
 },
 "nbformat": 4,
 "nbformat_minor": 5
}
